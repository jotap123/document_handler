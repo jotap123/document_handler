{
 "cells": [
  {
   "cell_type": "code",
   "execution_count": null,
   "metadata": {
    "vscode": {
     "languageId": "plaintext"
    }
   },
   "outputs": [],
   "source": [
    "import os\n",
    "import getpass\n",
    "from datetime import date\n",
    "from google.colab import userdata\n",
    "\n",
    "from langchain import hub\n",
    "from langchain_core.tools import Tool\n",
    "from langchain.tools import WikipediaQueryRun, BaseTool\n",
    "from langchain_community.utilities import WikipediaAPIWrapper\n",
    "from langchain.prompts import PromptTemplate\n",
    "from langchain_core.prompts import (\n",
    "    ChatPromptTemplate,\n",
    "    HumanMessagePromptTemplate,\n",
    "    MessagesPlaceholder,\n",
    ")\n",
    "from langchain_community.tools.tavily_search import TavilySearchResults\n",
    "\n",
    "from langchain_community.llms import HuggingFaceHub\n",
    "from langchain_community.chat_models.huggingface import ChatHuggingFace\n",
    "from langchain.agents import AgentExecutor, create_react_agent\n",
    "from langchain_openai import ChatOpenAI"
   ]
  },
  {
   "cell_type": "code",
   "execution_count": null,
   "metadata": {
    "vscode": {
     "languageId": "plaintext"
    }
   },
   "outputs": [],
   "source": [
    "def current_day(*args, **kwargs):\n",
    "    dia = date.today().strftime('%d/%m/%Y')\n",
    "    return dia\n",
    "\n",
    "date_tool = Tool(\n",
    "    name=\"Day\",\n",
    "    func=current_day,\n",
    "    description=\"Use when you need to know the current date\"\n",
    ")\n",
    "\n",
    "search_tool = TavilySearchResults(max_results=2)\n",
    "\n",
    "wikipedia = WikipediaQueryRun(api_wrapper=WikipediaAPIWrapper(top_k_results=1, doc_content_chars_max=3000))\n",
    "\n",
    "wikipedia_tool = Tool(\n",
    "    name=\"wikipedia\",\n",
    "    description=\"You must never search for multiple concepts at a single step, you need to search one at a time. When asked to compare two concepts for example, search for each one individually.\",\n",
    "    func=wikipedia.run\n",
    ")\n",
    "\n",
    "tools = [search_tool, date_tool]"
   ]
  },
  {
   "cell_type": "code",
   "execution_count": null,
   "metadata": {
    "vscode": {
     "languageId": "plaintext"
    }
   },
   "outputs": [],
   "source": [
    "template_super_intelligence = '''<|begin_of_text|>\n",
    "<|start_header_id|>system<|end_header_id|>\n",
    "Your name is Transcendius.\n",
    "You are an artificial superintelligence. Your goal is to be a resource to access all kinds of knowledge existent.\n",
    "Answer in portuguese unless being asked otherwise.\n",
    "Answer the following questions as best you can. You have access to the following tools:\n",
    "\n",
    "{tools}\n",
    "\n",
    "Use the following format:\n",
    "\n",
    "Question: the input question you must answer\n",
    "Thought: you should always think about what to do\n",
    "Action: the action to take, should be one of [{tool_names}]\n",
    "Action Input: the input to the action\n",
    "Observation: the result of the action\n",
    "... (this Thought/Action/Action Input/Observation can repeat N times)\n",
    "Thought: I now know the final answer\n",
    "Final Answer: the final answer to the original input question\n",
    "\n",
    "Begin!\n",
    "\n",
    "Question: {input}\n",
    "Thought:{agent_scratchpad}\n",
    "'''"
   ]
  },
  {
   "cell_type": "code",
   "execution_count": null,
   "metadata": {
    "vscode": {
     "languageId": "plaintext"
    }
   },
   "outputs": [],
   "source": [
    "model = HuggingFaceHub(\n",
    "    repo_id=\"meta-llama/Meta-Llama-3-8B-Instruct\",\n",
    "    model_kwargs={\n",
    "        \"temperature\": 1,\n",
    "        \"return_full_text\": False,\n",
    "        \"max_new_tokens\": 350,\n",
    "    },\n",
    "    huggingfacehub_api_token=userdata.get('HUGGINGFACEHUB_API_TOKEN')\n",
    ")\n",
    "agent = create_react_agent(llm=model, tools=tools, prompt=PromptTemplate.from_template(template_super_intelligence), stop_sequence=True)\n",
    "agent_executor = AgentExecutor.from_agent_and_tools(agent=agent, tools=tools, verbose=True, handling_parsing_errors=True)"
   ]
  },
  {
   "cell_type": "code",
   "execution_count": null,
   "metadata": {
    "vscode": {
     "languageId": "plaintext"
    }
   },
   "outputs": [],
   "source": []
  }
 ],
 "metadata": {
  "language_info": {
   "name": "python"
  }
 },
 "nbformat": 4,
 "nbformat_minor": 2
}
